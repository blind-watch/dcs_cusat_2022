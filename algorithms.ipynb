{
 "cells": [
  {
   "cell_type": "markdown",
   "metadata": {},
   "source": [
    "# Intermediate Data Structures and Algorithms in Python"
   ]
  },
  {
   "cell_type": "markdown",
   "metadata": {},
   "source": [
    "### Basic Data Structures in Python"
   ]
  },
  {
   "cell_type": "markdown",
   "metadata": {},
   "source": [
    "#### Lists: A collection of values (ordered, unordered, repeatable, etc)"
   ]
  },
  {
   "cell_type": "code",
   "execution_count": 8,
   "metadata": {},
   "outputs": [
    {
     "name": "stdout",
     "output_type": "stream",
     "text": [
      "loopedNumbers: [0, 1, 2, 3, 4, 5, 6, 7, 8, 9, 10, 11, 12, 13, 14, 15, 16, 17, 18, 19, 20, 21, 22, 23, 24, 25, 26, 27, 28, 29, 30, 31, 32, 33, 34, 35, 36, 37, 38, 39, 40, 41, 42, 43, 44, 45, 46, 47, 48, 49, 50, 51, 52, 53, 54, 55, 56, 57, 58, 59, 60, 61, 62, 63, 64, 65, 66, 67, 68, 69, 70, 71, 72, 73, 74, 75, 76, 77, 78, 79, 80, 81, 82, 83, 84, 85, 86, 87, 88, 89, 90, 91, 92, 93, 94, 95, 96, 97, 98, 99] \n",
      "\n",
      "listComprhensionNumbers: [1, 2, 3, 4, 5, 6, 7, 8, 9, 10, 11, 12, 13, 14, 15, 16, 17, 18, 19, 20, 21, 22, 23, 24, 25, 26, 27, 28, 29, 30, 31, 32, 33, 34, 35, 36, 37, 38, 39, 40, 41, 42, 43, 44, 45, 46, 47, 48, 49, 50, 51, 52, 53, 54, 55, 56, 57, 58, 59, 60, 61, 62, 63, 64, 65, 66, 67, 68, 69, 70, 71, 72, 73, 74, 75, 76, 77, 78, 79, 80, 81, 82, 83, 84, 85, 86, 87, 88, 89, 90, 91, 92, 93, 94, 95, 96, 97, 98, 99] \n",
      "\n"
     ]
    }
   ],
   "source": [
    "names = [\"Sam\", \"Neil\", \"Jones\", \"Mary\"]\n",
    "numbers = [1, 2, 3, 4, 5, 5, 6, 10, 9, 8, 9]\n",
    "\n",
    "\n",
    "# Task 1: Create a list of values from 1 to 100\n",
    "# Manully? Not feasible\n",
    "\n",
    "# By a simple for loop\n",
    "\n",
    "loopedNumbers = []\n",
    "for i in range(100):\n",
    "    loopedNumbers.append(i)\n",
    "\n",
    "# By list comprehension\n",
    "\n",
    "listComprhensionNumbers = [i for i in range(1,100)]\n",
    "\n",
    "print(\"loopedNumbers: {} \\n\".format(loopedNumbers))\n",
    "print(\"listComprhensionNumbers: {} \\n\".format(listComprhensionNumbers))"
   ]
  },
  {
   "cell_type": "code",
   "execution_count": 9,
   "metadata": {},
   "outputs": [
    {
     "name": "stdout",
     "output_type": "stream",
     "text": [
      "[range(1, 100)]\n"
     ]
    }
   ],
   "source": [
    "# Wait! can't I just use range? Let's try it out...\n",
    "\n",
    "rangedNumbers = [range(1, 100)]\n",
    "print(rangedNumbers)"
   ]
  },
  {
   "cell_type": "code",
   "execution_count": 11,
   "metadata": {},
   "outputs": [
    {
     "name": "stdout",
     "output_type": "stream",
     "text": [
      "rangedNumbers: [1, 2, 3, 4, 5, 6, 7, 8, 9, 10, 11, 12, 13, 14, 15, 16, 17, 18, 19, 20, 21, 22, 23, 24, 25, 26, 27, 28, 29, 30, 31, 32, 33, 34, 35, 36, 37, 38, 39, 40, 41, 42, 43, 44, 45, 46, 47, 48, 49, 50, 51, 52, 53, 54, 55, 56, 57, 58, 59, 60, 61, 62, 63, 64, 65, 66, 67, 68, 69, 70, 71, 72, 73, 74, 75, 76, 77, 78, 79, 80, 81, 82, 83, 84, 85, 86, 87, 88, 89, 90, 91, 92, 93, 94, 95, 96, 97, 98, 99]\n"
     ]
    }
   ],
   "source": [
    "# Well that doesn't work! If only we could unpack the data in range(1, 100)\n",
    "# Let's try one more time with *, just to mark our frustation\n",
    "\n",
    "rangedNumbers = [*range(1, 100)]\n",
    "print(\"rangedNumbers: {}\".format(rangedNumbers))"
   ]
  },
  {
   "cell_type": "code",
   "execution_count": 14,
   "metadata": {},
   "outputs": [
    {
     "name": "stdout",
     "output_type": "stream",
     "text": [
      "[1, 2, 2, 4, 5]\n"
     ]
    }
   ],
   "source": [
    "# Wait that worked!!!\n",
    "\n",
    "# * is called an unpacking operator, it will unpack any iterable objects.\n",
    "# Just think of it as removing an array bracket like this:\n",
    "\n",
    "print(*[[1,2,2,4,5]])"
   ]
  },
  {
   "cell_type": "code",
   "execution_count": 20,
   "metadata": {},
   "outputs": [
    {
     "data": {
      "text/plain": [
       "[6, 7, 8, 9, 10, 11]"
      ]
     },
     "execution_count": 20,
     "metadata": {},
     "output_type": "execute_result"
    }
   ],
   "source": [
    "# Two useful higer order functions\n",
    "\n",
    "[*filter(lambda x: x > 5,  [1,2,3,4,5,6,7,8,9,10,11])]"
   ]
  },
  {
   "cell_type": "code",
   "execution_count": 21,
   "metadata": {},
   "outputs": [
    {
     "name": "stdout",
     "output_type": "stream",
     "text": [
      "Array before applying square: [1, 2, 3, 4, 5, 6, 7, 8, 9, 10]\n",
      "Array after applying square: [1, 4, 9, 16, 25, 36, 49, 64, 81, 100]\n",
      "Array before applying cube: [1, 2, 3, 4, 5, 6, 7, 8, 9, 10]\n",
      "Array after applying cube: [1, 8, 27, 64, 125, 216, 343, 512, 729, 1000]\n",
      "Array before applying times2: [1, 2, 3, 4, 5, 6, 7, 8, 9, 10]\n",
      "Array after applying times2: [2, 4, 6, 8, 10, 12, 14, 16, 18, 20]\n",
      "squaredArray: [1, 4, 9, 16, 25, 36, 49, 64, 81, 100]\n",
      "cubedArray: [1, 8, 27, 64, 125, 216, 343, 512, 729, 1000]\n",
      "times2Array: [2, 4, 6, 8, 10, 12, 14, 16, 18, 20]\n"
     ]
    }
   ],
   "source": [
    "# Higher order functions\n",
    "\n",
    "def apply(fn, array):\n",
    "    #print(\"Array before applying {}: {}\".format(fn.__name__, array))\n",
    "    appliedArray = [fn(x) for x in array]\n",
    "    #print(\"Array after applying {}: {}\".format(fn.__name__, appliedArray))\n",
    "    return appliedArray\n",
    "\n",
    "def square(x): return x*x\n",
    "def cube(x): return x*x*x\n",
    "def times2(x): return x*2\n",
    "\n",
    "squaredArray = apply(square, [1,2,3,4,5,6,7,8,9,10])\n",
    "cubedArray = apply(cube, [1,2,3,4,5,6,7,8,9,10])\n",
    "times2Array = apply(times2, [1,2,3,4,5,6, 7, 8, 9, 10])\n",
    "\n",
    "print(\"squaredArray: {}\".format(squaredArray))\n",
    "print(\"cubedArray: {}\".format(cubedArray))\n",
    "print(\"times2Array: {}\".format(times2Array))\n"
   ]
  },
  {
   "cell_type": "markdown",
   "metadata": {},
   "source": [
    "#### Numbers Station Coded Messages\n",
    "```==============================\n",
    "When you went undercover in Commander Lambda's organization, you set up a coded messaging system with Bunny Headquarters to allow them to send you important mission updates. Now that you're here and promoted to Henchman, you need to make sure you can receive those messages -- but since you need to sneak them past Commander Lambda's spies, it won't be easy!\n",
    "Bunny HQ has secretly taken control of two of the galaxy's more obscure numbers stations, and will use them to broadcast lists of numbers. They've given you a numerical key, and their messages will be encrypted within the first sequence of numbers that adds up to that key within any given list of numbers.\n",
    "Given a non-empty list of positive integers l and a target positive integer t, write a function solution(l, t) which verifies if there is at least one consecutive sequence of positive integers within the list l (i.e. a contiguous sub-list) that can be summed up to the given target positive integer t (the key) and returns the lexicographically smallest list containing the smallest start and end indexes where this sequence can be found, or returns the array [-1, -1] in the case that there is no such sequence (to throw off Lambda's spies, not all number broadcasts will contain a coded message).\n",
    "For example, given the broadcast list l as [4, 3, 5, 7, 8] and the key t as 12, the function solution(l, t) would return the list [0, 2] because the list l contains the sub-list [4, 3, 5] starting at index 0 and ending at index 2, for which 4 + 3 + 5 = 12, even though there is a shorter sequence that happens later in the list (5 + 7). On the other hand, given the list l as [1, 2, 3, 4] and the key t as 15, the function solution(l, t) would return [-1, -1] because there is no sub-list of list l that can be summed up to the given target value t = 15.\n",
    "To help you identify the coded broadcasts, Bunny HQ has agreed to the following standards:\n",
    "- Each list l will contain at least 1 element but never more than 100.\n",
    "- Each element of l will be between 1 and 100.\n",
    "- t will be a positive integer, not exceeding 250.\n",
    "- The first element of the list l has index 0.\n",
    "- For the list returned by solution(l, t), the start index must be equal or smaller than the end index.\n",
    "Remember, to throw off Lambda's spies, Bunny HQ might include more than one contiguous sublist of a number broadcast that can be summed up to the key. You know that the message will always be hidden in the first sublist that sums up to the key, so solution(l, t) should only return that sublist.\n",
    "\n",
    "Tests\n",
    "The challenge also list a couple of test cases you will need to pass. However, it also indicates that there will be additional hidden tests that you need to pass. But you may not know what those test are about. Nice, uh?\n",
    "\n",
    "Test cases\n",
    "==========\n",
    "Your code should pass the following test cases.\n",
    "Note that it may also be run against hidden test cases not shown here.\n",
    "-- Python cases --\n",
    "Input:\n",
    "solution.solution([1, 2, 3, 4], 15)\n",
    "Output:\n",
    "-1,-1\n",
    "\n",
    "Input:\n",
    "solution.solution([4, 3, 10, 2, 8], 12)\n",
    "Output:\n",
    "2,3"
   ]
  }
 ],
 "metadata": {
  "kernelspec": {
   "display_name": "Python 3.7.9 ('tf-gpu')",
   "language": "python",
   "name": "python3"
  },
  "language_info": {
   "codemirror_mode": {
    "name": "ipython",
    "version": 3
   },
   "file_extension": ".py",
   "mimetype": "text/x-python",
   "name": "python",
   "nbconvert_exporter": "python",
   "pygments_lexer": "ipython3",
   "version": "3.7.9"
  },
  "orig_nbformat": 4,
  "vscode": {
   "interpreter": {
    "hash": "33feee0b1352334e753b4660f3956046dfb90ff3ee63923d3ce1b1fee10d8b3f"
   }
  }
 },
 "nbformat": 4,
 "nbformat_minor": 2
}
