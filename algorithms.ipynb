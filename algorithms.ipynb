{
 "cells": [
  {
   "cell_type": "markdown",
   "metadata": {},
   "source": [
    "# Intoduction to Data Structures and Algorithms in Python"
   ]
  },
  {
   "cell_type": "markdown",
   "metadata": {},
   "source": [
    "### Basic Data Structures in Python"
   ]
  },
  {
   "cell_type": "markdown",
   "metadata": {},
   "source": [
    "#### Lists: A collection of values (ordered, unordered, repeatable, etc)"
   ]
  },
  {
   "cell_type": "code",
   "execution_count": 1,
   "metadata": {},
   "outputs": [
    {
     "name": "stdout",
     "output_type": "stream",
     "text": [
      "loopedNumbers: [0, 1, 2, 3, 4, 5, 6, 7, 8, 9, 10, 11, 12, 13, 14, 15, 16, 17, 18, 19, 20, 21, 22, 23, 24, 25, 26, 27, 28, 29, 30, 31, 32, 33, 34, 35, 36, 37, 38, 39, 40, 41, 42, 43, 44, 45, 46, 47, 48, 49, 50, 51, 52, 53, 54, 55, 56, 57, 58, 59, 60, 61, 62, 63, 64, 65, 66, 67, 68, 69, 70, 71, 72, 73, 74, 75, 76, 77, 78, 79, 80, 81, 82, 83, 84, 85, 86, 87, 88, 89, 90, 91, 92, 93, 94, 95, 96, 97, 98, 99] \n",
      "\n",
      "listComprhensionNumbers: [1, 2, 3, 4, 5, 6, 7, 8, 9, 10, 11, 12, 13, 14, 15, 16, 17, 18, 19, 20, 21, 22, 23, 24, 25, 26, 27, 28, 29, 30, 31, 32, 33, 34, 35, 36, 37, 38, 39, 40, 41, 42, 43, 44, 45, 46, 47, 48, 49, 50, 51, 52, 53, 54, 55, 56, 57, 58, 59, 60, 61, 62, 63, 64, 65, 66, 67, 68, 69, 70, 71, 72, 73, 74, 75, 76, 77, 78, 79, 80, 81, 82, 83, 84, 85, 86, 87, 88, 89, 90, 91, 92, 93, 94, 95, 96, 97, 98, 99] \n",
      "\n"
     ]
    }
   ],
   "source": [
    "names = [\"Sam\", \"Neil\", \"Jones\", \"Mary\"]\n",
    "numbers = [1, 2, 3, 4, 5, 5, 6, 10, 9, 8, 9]\n",
    "\n",
    "\n",
    "# Task 1: Create a list of values from 1 to 100\n",
    "# Manully? Not feasible\n",
    "\n",
    "# By a simple for loop\n",
    "\n",
    "loopedNumbers = []\n",
    "for i in range(100):\n",
    "    loopedNumbers.append(i)\n",
    "\n",
    "# By list comprehension\n",
    "\n",
    "listComprhensionNumbers = [i for i in range(1,100)]\n",
    "\n",
    "print(\"loopedNumbers: {} \\n\".format(loopedNumbers))\n",
    "print(\"listComprhensionNumbers: {} \\n\".format(listComprhensionNumbers))"
   ]
  },
  {
   "cell_type": "code",
   "execution_count": 2,
   "metadata": {},
   "outputs": [
    {
     "name": "stdout",
     "output_type": "stream",
     "text": [
      "[range(1, 100)]\n"
     ]
    }
   ],
   "source": [
    "# Wait! can't I just use range? Let's try it out...\n",
    "\n",
    "rangedNumbers = [range(1, 100)]\n",
    "print(rangedNumbers)"
   ]
  },
  {
   "cell_type": "code",
   "execution_count": 3,
   "metadata": {},
   "outputs": [
    {
     "name": "stdout",
     "output_type": "stream",
     "text": [
      "rangedNumbers: [1, 2, 3, 4, 5, 6, 7, 8, 9, 10, 11, 12, 13, 14, 15, 16, 17, 18, 19, 20, 21, 22, 23, 24, 25, 26, 27, 28, 29, 30, 31, 32, 33, 34, 35, 36, 37, 38, 39, 40, 41, 42, 43, 44, 45, 46, 47, 48, 49, 50, 51, 52, 53, 54, 55, 56, 57, 58, 59, 60, 61, 62, 63, 64, 65, 66, 67, 68, 69, 70, 71, 72, 73, 74, 75, 76, 77, 78, 79, 80, 81, 82, 83, 84, 85, 86, 87, 88, 89, 90, 91, 92, 93, 94, 95, 96, 97, 98, 99]\n"
     ]
    }
   ],
   "source": [
    "# Well that doesn't work! If only we could unpack the data in range(1, 100)\n",
    "# Let's try one more time with *, just to mark our frustation\n",
    "\n",
    "rangedNumbers = [*range(1, 100)]\n",
    "print(\"rangedNumbers: {}\".format(rangedNumbers))"
   ]
  },
  {
   "cell_type": "code",
   "execution_count": 4,
   "metadata": {},
   "outputs": [
    {
     "name": "stdout",
     "output_type": "stream",
     "text": [
      "[1, 2, 2, 4, 5]\n"
     ]
    }
   ],
   "source": [
    "# Wait that worked!!!\n",
    "\n",
    "# * is called an unpacking operator, it will unpack any iterable objects.\n",
    "# Just think of it as removing an array bracket like this:\n",
    "\n",
    "print(*[[1,2,2,4,5]])"
   ]
  },
  {
   "cell_type": "code",
   "execution_count": 5,
   "metadata": {},
   "outputs": [
    {
     "name": "stdout",
     "output_type": "stream",
     "text": [
      "squaredArray: [1, 4, 9, 16, 25, 36, 49, 64, 81, 100]\n",
      "cubedArray: [1, 8, 27, 64, 125, 216, 343, 512, 729, 1000]\n",
      "times2Array: [2, 4, 6, 8, 10, 12, 14, 16, 18, 20]\n"
     ]
    }
   ],
   "source": [
    "# Higher order functions\n",
    "\n",
    "def apply(fn, array):\n",
    "    appliedArray = [fn(x) for x in array]\n",
    "    return appliedArray\n",
    "\n",
    "def square(x): return x*x\n",
    "def cube(x): return x*x*x\n",
    "def times2(x): return x*2\n",
    "\n",
    "squaredArray = apply(square, [1,2,3,4,5,6,7,8,9,10])\n",
    "cubedArray = apply(cube, [1,2,3,4,5,6,7,8,9,10])\n",
    "times2Array = apply(times2, [1,2,3,4,5,6, 7, 8, 9, 10])\n",
    "\n",
    "print(\"squaredArray: {}\".format(squaredArray))\n",
    "print(\"cubedArray: {}\".format(cubedArray))\n",
    "print(\"times2Array: {}\".format(times2Array))\n"
   ]
  },
  {
   "cell_type": "code",
   "execution_count": 6,
   "metadata": {},
   "outputs": [
    {
     "name": "stdout",
     "output_type": "stream",
     "text": [
      "FilteredArray: [6, 7, 8, 9, 10, 11]\n",
      "MappedArray: [2, 4, 6, 8, 10, 12, 14, 16, 18, 20, 22]\n"
     ]
    }
   ],
   "source": [
    "# Two builtin useful higher order functions\n",
    "\n",
    "filteredArray = [*filter(lambda x: x > 5,  [1,2,3,4,5,6,7,8,9,10,11])]\n",
    "mappedArray = [*map(lambda x: x*2, [1,2,3,4,5,6,7,8,9,10,11])]\n",
    "\n",
    "print(\"FilteredArray: {}\".format(filteredArray))\n",
    "print(\"MappedArray: {}\".format(mappedArray))\n",
    "\n",
    "# Map serves more or less the same purpose as our apply function"
   ]
  },
  {
   "cell_type": "markdown",
   "metadata": {},
   "source": [
    "#### Classical DS with python list"
   ]
  },
  {
   "cell_type": "code",
   "execution_count": 7,
   "metadata": {},
   "outputs": [
    {
     "name": "stdout",
     "output_type": "stream",
     "text": [
      "[5, 10, 15]\n",
      "[5, 10]\n",
      "[5]\n"
     ]
    }
   ],
   "source": [
    "# Stack\n",
    "\n",
    "my_stack = []\n",
    "\n",
    "# Pushing into stack\n",
    "my_stack.append(5)\n",
    "my_stack.append(10)\n",
    "my_stack.append(15)\n",
    "\n",
    "print(my_stack)\n",
    "\n",
    "# Poping out of stack\n",
    "my_stack.pop()\n",
    "print(my_stack)\n",
    "my_stack.pop()\n",
    "print(my_stack)\n",
    "\n",
    "# It's that easy"
   ]
  },
  {
   "cell_type": "code",
   "execution_count": 8,
   "metadata": {},
   "outputs": [
    {
     "name": "stdout",
     "output_type": "stream",
     "text": [
      "[5]\n",
      "[5, 10]\n",
      "[5, 10, 15]\n",
      "[10, 15]\n",
      "[15]\n"
     ]
    }
   ],
   "source": [
    "# FIFO Queue\n",
    "\n",
    "my_queue = []\n",
    "\n",
    "# Insert into the queue\n",
    "my_queue.append(5)\n",
    "print(my_queue)\n",
    "my_queue.append(10)\n",
    "print(my_queue)\n",
    "my_queue.append(15)\n",
    "print(my_queue)\n",
    "\n",
    "# Removing from the queue\n",
    "my_queue.pop(0)\n",
    "print(my_queue)\n",
    "my_queue.pop(0)\n",
    "print(my_queue)"
   ]
  },
  {
   "cell_type": "code",
   "execution_count": 9,
   "metadata": {},
   "outputs": [
    {
     "name": "stdout",
     "output_type": "stream",
     "text": [
      "deque([5])\n",
      "deque([10, 5])\n",
      "deque([15, 10, 5])\n",
      "deque([10, 5])\n",
      "deque([5])\n",
      "deque([])\n",
      "deque([15, 10, 5, 0, 5])\n",
      "deque([15, 10, 5, 0, 5, 10])\n",
      "deque([15, 10, 5, 0, 5, 10, 15])\n"
     ]
    }
   ],
   "source": [
    "# Dequeue \n",
    "# python collections library has a really optimized dequeue implementation\n",
    "\n",
    "from collections import deque\n",
    "\n",
    "my_deque = deque([])\n",
    "\n",
    "\n",
    "# Inserting and removing from left\n",
    "\n",
    "my_deque.appendleft(5)\n",
    "print(my_deque)\n",
    "my_deque.appendleft(10)\n",
    "print(my_deque)\n",
    "my_deque.appendleft(15)\n",
    "print(my_deque)\n",
    "\n",
    "\n",
    "my_deque.popleft()\n",
    "print(my_deque)\n",
    "my_deque.popleft()\n",
    "print(my_deque)\n",
    "my_deque.popleft()\n",
    "print(my_deque)\n",
    "\n",
    "# Inserting and removing from right\n",
    "\n",
    "my_deque = deque([15,10,5,0])\n",
    "\n",
    "my_deque.append(5)\n",
    "print(my_deque)\n",
    "my_deque.append(10)\n",
    "print(my_deque)\n",
    "my_deque.append(15)\n",
    "print(my_deque)"
   ]
  },
  {
   "cell_type": "markdown",
   "metadata": {},
   "source": [
    "#### List Comprhension and basic list manipulations"
   ]
  },
  {
   "cell_type": "code",
   "execution_count": 25,
   "metadata": {},
   "outputs": [
    {
     "name": "stdout",
     "output_type": "stream",
     "text": [
      "[0, 2, 4, 6, 8, 10, 12, 14, 16, 18, 20, 22, 24]\n",
      "['Bananna', 'Orange', 'Tomato', 'Jackfruit']\n",
      "['Bananna', 'Orange', 'Tomato', 'Jackfruit']\n",
      "[50, 51, 52, 53, 54, 55, 56, 57, 58, 59, 60, 61, 62, 63, 64, 65, 66, 67, 68, 69, 70, 71, 72, 73, 74, 75, 76, 77, 78, 79, 80, 81, 82, 83, 84, 85, 86, 87, 88, 89, 90, 91, 92, 93, 94, 95, 96, 97, 98, 99, 100]\n",
      "[50, 52, 54, 56, 58, 60, 62, 64, 66, 68, 70, 72, 74, 76, 78, 80, 82, 84, 86, 88, 90, 92, 94, 96, 98, 100]\n"
     ]
    }
   ],
   "source": [
    "# Syntax for list comprehension\n",
    "# some_list = [expression for item in iterable if condition == True]\n",
    "\n",
    "# example1: list of even numbers till n\n",
    "even_numbers = [i for i in range(25) if i % 2 == 0]\n",
    "print(even_numbers)\n",
    "\n",
    "# example2: We don't like apples\n",
    "fruits = [\"Apple\", \"Bananna\", \"Orange\", \"Tomato\", \"Jackfruit\", \"Green Apple\", \"Sour Apple\", \"small apple\"]\n",
    "\n",
    "# Qn: Create a sublist without any apples\n",
    "noApples = [fruit for fruit in fruits if not \"apple\" in fruit.lower()]\n",
    "print(noApples)\n",
    "\n",
    "# Hey can we do this with filter?\n",
    "noMoreApples = [*filter(lambda x: not \"apple\" in x.lower(), fruits)]\n",
    "print(noMoreApples)\n",
    "\n",
    "# Slicing \n",
    "# Syntax Array[Start: End: Jump]\n",
    "numbers = [*range(101)]\n",
    "\n",
    "numbersFrom50to100 = numbers[50:101]\n",
    "evenNumbersFrom50to100 = numbers[50:101:2]\n",
    "print(numbersFrom50to100)\n",
    "print(evenNumbersFrom50to100)"
   ]
  },
  {
   "cell_type": "markdown",
   "metadata": {},
   "source": [
    "#### Some Questions"
   ]
  },
  {
   "cell_type": "markdown",
   "metadata": {},
   "source": [
    "#### Sum and square of natural numbers"
   ]
  },
  {
   "cell_type": "code",
   "execution_count": 10,
   "metadata": {},
   "outputs": [
    {
     "name": "stdout",
     "output_type": "stream",
     "text": [
      "1225\n",
      "40425\n"
     ]
    }
   ],
   "source": [
    "# Classical way to write this, but can we do better with the things we have learned so far?\n",
    "list = []\n",
    "natural_sum = 0\n",
    "sq_sum = 0\n",
    "\n",
    "n = 50\n",
    "for i in range(0, n):\n",
    "  list.append(i)\n",
    "\n",
    "for j in range(0, n):\n",
    "  k = list[j]\n",
    "  natural_sum = natural_sum+k\n",
    "  sq_sum = sq_sum+(k*k)\n",
    "print(natural_sum)\n",
    "print(sq_sum)\n"
   ]
  },
  {
   "cell_type": "code",
   "execution_count": 12,
   "metadata": {},
   "outputs": [
    {
     "name": "stdout",
     "output_type": "stream",
     "text": [
      "1225\n",
      "40425\n"
     ]
    }
   ],
   "source": [
    "# A better way to write this\n",
    "list = [*range(n)]\n",
    "\n",
    "natural_sum = sum(list)\n",
    "square_sum = sum([*map(lambda x: x * x, list)])\n",
    "\n",
    "print(natural_sum)\n",
    "print(square_sum)"
   ]
  },
  {
   "cell_type": "markdown",
   "metadata": {},
   "source": [
    "#### Numbers Station Coded Messages\n",
    "```==============================\n",
    "When you went undercover in Commander Lambda's organization, you set up a coded messaging system with Bunny Headquarters to allow them to send you important mission updates. Now that you're here and promoted to Henchman, you need to make sure you can receive those messages -- but since you need to sneak them past Commander Lambda's spies, it won't be easy!\n",
    "Bunny HQ has secretly taken control of two of the galaxy's more obscure numbers stations, and will use them to broadcast lists of numbers. They've given you a numerical key, and their messages will be encrypted within the first sequence of numbers that adds up to that key within any given list of numbers.\n",
    "Given a non-empty list of positive integers l and a target positive integer t, write a function solution(l, t) which verifies if there is at least one consecutive sequence of positive integers within the list l (i.e. a contiguous sub-list) that can be summed up to the given target positive integer t (the key) and returns the lexicographically smallest list containing the smallest start and end indexes where this sequence can be found, or returns the array [-1, -1] in the case that there is no such sequence (to throw off Lambda's spies, not all number broadcasts will contain a coded message).\n",
    "For example, given the broadcast list l as [4, 3, 5, 7, 8] and the key t as 12, the function solution(l, t) would return the list [0, 2] because the list l contains the sub-list [4, 3, 5] starting at index 0 and ending at index 2, for which 4 + 3 + 5 = 12, even though there is a shorter sequence that happens later in the list (5 + 7). On the other hand, given the list l as [1, 2, 3, 4] and the key t as 15, the function solution(l, t) would return [-1, -1] because there is no sub-list of list l that can be summed up to the given target value t = 15.\n",
    "To help you identify the coded broadcasts, Bunny HQ has agreed to the following standards:\n",
    "- Each list l will contain at least 1 element but never more than 100.\n",
    "- Each element of l will be between 1 and 100.\n",
    "- t will be a positive integer, not exceeding 250.\n",
    "- The first element of the list l has index 0.\n",
    "- For the list returned by solution(l, t), the start index must be equal or smaller than the end index.\n",
    "Remember, to throw off Lambda's spies, Bunny HQ might include more than one contiguous sublist of a number broadcast that can be summed up to the key. You know that the message will always be hidden in the first sublist that sums up to the key, so solution(l, t) should only return that sublist.\n",
    "\n",
    "Test cases\n",
    "==========\n",
    "Your code should pass the following test cases.\n",
    "-- Python cases --\n",
    "Input:\n",
    "solution.solution([1, 2, 3, 4], 15)\n",
    "Output:\n",
    "-1,-1\n",
    "\n",
    "Input:\n",
    "solution.solution([4, 3, 10, 2, 8], 12)\n",
    "Output:\n",
    "2,3"
   ]
  },
  {
   "cell_type": "markdown",
   "metadata": {},
   "source": [
    "### BST"
   ]
  },
  {
   "cell_type": "code",
   "execution_count": 39,
   "metadata": {},
   "outputs": [
    {
     "name": "stdout",
     "output_type": "stream",
     "text": [
      "-56\n",
      "-45\n",
      "24\n",
      "32\n",
      "32\n",
      "62\n",
      "245\n"
     ]
    }
   ],
   "source": [
    "\n",
    "class twoSidedPointer: \n",
    "    def __init__(self, left=None, right=None, value=None):\n",
    "        self.value = value\n",
    "        self.left = left\n",
    "        self.right = right\n",
    "\n",
    "    def setValue(self, value):\n",
    "        self.value = value\n",
    "\n",
    "    def setLeft(self, left):\n",
    "        self.left = left\n",
    "\n",
    "    def setRight(self, right):\n",
    "        self.right = right\n",
    "\n",
    "    def getValue(self):\n",
    "        return self.value\n",
    "\n",
    "    def getLeft(self):\n",
    "        return self.left\n",
    "\n",
    "    def getRight(self):\n",
    "        return self.right\n",
    "\n",
    "class BinarySearchTree: \n",
    "    def __init__(self):\n",
    "        self.root = None\n",
    "\n",
    "    def addChild(self, value, node=None):\n",
    "        if self.root == None:\n",
    "            self.root = twoSidedPointer(None, None, value)\n",
    "            return\n",
    "        if (node == None):\n",
    "            if (self.root.getValue() <= value):\n",
    "                if (self.root.getRight() == None):\n",
    "                    self.root.setRight(twoSidedPointer(None, None, value))\n",
    "                    return\n",
    "                else:\n",
    "                    self.addChild(value, self.root.getRight())\n",
    "                return\n",
    "            else:\n",
    "                if (self.root.getLeft() == None):\n",
    "                    self.root.setLeft(twoSidedPointer(None, None, value))\n",
    "                    return\n",
    "                else:\n",
    "                    self.addChild(value, self.root.getLeft())\n",
    "                return\n",
    "        else:\n",
    "            if (node.getValue() <= value):\n",
    "                if (node.getRight() == None):\n",
    "                    node.setRight(twoSidedPointer(None, None, value))\n",
    "                    return\n",
    "                else:\n",
    "                    self.addChild(value, node.getRight())\n",
    "                return\n",
    "            else:\n",
    "                if (node.getLeft() == None):\n",
    "                    node.setLeft(twoSidedPointer(None, None, value))\n",
    "                    return\n",
    "                else:\n",
    "                    self.addChild(value, node.getLeft())\n",
    "                return\n",
    "\n",
    "    def inOrder(self, root=None, init = True):\n",
    "        if (init):\n",
    "            self.inOrder(self.root.getLeft(), False)\n",
    "            print(self.root.getValue())\n",
    "            self.inOrder(self.root.getRight(), False)\n",
    "            return\n",
    "        else:\n",
    "            if root == None:\n",
    "                return\n",
    "            else:\n",
    "                self.inOrder(root.getLeft(), False)\n",
    "                print(root.getValue())\n",
    "                self.inOrder(root.getRight(), False)\n",
    "\n",
    "bst = BinarySearchTree()\n",
    "\n",
    "bst.addChild(245)\n",
    "bst.addChild(-56)\n",
    "bst.addChild(24)\n",
    "bst.addChild(32)\n",
    "bst.addChild(-45)\n",
    "bst.addChild(62)\n",
    "bst.addChild(32)\n",
    "\n",
    "bst.inOrder()\n",
    "\n",
    "\n",
    "            \n",
    "\n",
    "\n",
    "\n",
    "    "
   ]
  }
 ],
 "metadata": {
  "kernelspec": {
   "display_name": "Python 3.7.9 ('tf-gpu')",
   "language": "python",
   "name": "python3"
  },
  "language_info": {
   "codemirror_mode": {
    "name": "ipython",
    "version": 3
   },
   "file_extension": ".py",
   "mimetype": "text/x-python",
   "name": "python",
   "nbconvert_exporter": "python",
   "pygments_lexer": "ipython3",
   "version": "3.7.9"
  },
  "orig_nbformat": 4,
  "vscode": {
   "interpreter": {
    "hash": "33feee0b1352334e753b4660f3956046dfb90ff3ee63923d3ce1b1fee10d8b3f"
   }
  }
 },
 "nbformat": 4,
 "nbformat_minor": 2
}
